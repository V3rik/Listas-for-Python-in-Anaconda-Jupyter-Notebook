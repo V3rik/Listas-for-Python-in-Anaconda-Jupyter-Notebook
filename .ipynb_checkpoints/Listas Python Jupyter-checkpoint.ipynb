{
 "cells": [
  {
   "cell_type": "markdown",
   "id": "0a42e923",
   "metadata": {},
   "source": [
    "# lista em Python\n",
    "\n",
    "# estrutura:\n",
    "\n",
    "Lista = [valor, vlor, valor, valor...]\n",
    "\n",
    "1- Lista é um dos objetos mais importantes de Python, por isso vamos trabalhar bastante nelas.\n",
    "2- Quando importamos uma base de dados par ao Python, normalmente ela é lida como uma \"lista\" ou como alguma \"variação de lista\".\n",
    "3- Listas em Python foram feitas para serem homogêneas, apesar de aceitarem valores hertogêneos.\n",
    "4- exemplos de listas:\n",
    "    \n",
    "Listas de produtos de uma Loja:"
   ]
  },
  {
   "cell_type": "code",
   "execution_count": 35,
   "id": "875796a1",
   "metadata": {},
   "outputs": [
    {
     "name": "stdout",
     "output_type": "stream",
     "text": [
      "['tv', 'celular', 'mouse', 'teclado', 'tablet']\n"
     ]
    }
   ],
   "source": [
    "produtos = [\"tv\", \"celular\", \"mouse\", \"teclado\", \"tablet\"]\n",
    "\n",
    "#ou ela pode ser escrita de outra forma:\n",
    "Produtos = [\"tv\",\n",
    "            \"celular\",\n",
    "            \"mouse\", \n",
    "            \"teclado\",\n",
    "            \"tablet\"]\n",
    "\n",
    "#exibir lista:\n",
    "print (produtos)"
   ]
  },
  {
   "cell_type": "markdown",
   "id": "118ae6b1",
   "metadata": {},
   "source": [
    "# Lista de Unidades vendidas de cada produto da Loja:\n"
   ]
  },
  {
   "cell_type": "code",
   "execution_count": 36,
   "id": "70ac698c",
   "metadata": {},
   "outputs": [
    {
     "name": "stdout",
     "output_type": "stream",
     "text": [
      "1500\n"
     ]
    }
   ],
   "source": [
    "vendas = [1000, 1500, 350, 270, 900]\n",
    "\n",
    "#printar informação da lista vendas index 1\n",
    "print(vendas[1])"
   ]
  },
  {
   "cell_type": "markdown",
   "id": "61a3a59e",
   "metadata": {},
   "source": [
    "# Juntando informações das duas listas (produtos e  vendas)"
   ]
  },
  {
   "cell_type": "code",
   "execution_count": 37,
   "id": "71834395",
   "metadata": {},
   "outputs": [],
   "source": [
    "produtos = [\"tv\", \"celular\", \"mouse\", \"teclado\", \"tablet\"]\n",
    "# indice      0        1          2       3          4  \n",
    "vendas = [  1000,    1500,      350,    270,      900]\n"
   ]
  },
  {
   "cell_type": "code",
   "execution_count": 38,
   "id": "7a3ec313",
   "metadata": {},
   "outputs": [
    {
     "name": "stdout",
     "output_type": "stream",
     "text": [
      "Vendas do produto celular foram de 1500 Unidades\n"
     ]
    }
   ],
   "source": [
    "#OBS: .format( variavel[index], variavel [index]  )\n",
    "print (\"Vendas do produto {} foram de {} Unidades\".format(produtos[1], vendas[1]))"
   ]
  },
  {
   "cell_type": "markdown",
   "id": "b5048df9",
   "metadata": {},
   "source": [
    "# Modificando uma lista:\n",
    "\n",
    "Sintaxe para realizar alteração:\n",
    "\n",
    "lista[index] = valor_novo"
   ]
  },
  {
   "cell_type": "code",
   "execution_count": 39,
   "id": "98d1de14",
   "metadata": {},
   "outputs": [
    {
     "name": "stdout",
     "output_type": "stream",
     "text": [
      "Vendas do produto teclado foram de 300 Unidades\n"
     ]
    }
   ],
   "source": [
    "# vamos alterar a quantidade de vendas do teclado [index_3] para 300\n",
    "\n",
    "vendas[3] = 300\n",
    "\n",
    "print (\"Vendas do produto {} foram de {} Unidades\".format(produtos[3], vendas[3]))"
   ]
  },
  {
   "cell_type": "markdown",
   "id": "e71478ed",
   "metadata": {},
   "source": [
    "# Como dscobrir indice de um item de uma lista?\n",
    "\n",
    "Sintaxe:\n",
    "\n",
    "i = lista.index(\"item\")"
   ]
  },
  {
   "cell_type": "code",
   "execution_count": null,
   "id": "0f47fbbb",
   "metadata": {},
   "outputs": [],
   "source": []
  },
  {
   "cell_type": "markdown",
   "id": "11b8c3cb",
   "metadata": {},
   "source": [
    "Nesse caso a lista é pequena para fins didáticos, mas essa lista poderia ter dezenas de milhares de produtos diferentes.\n",
    "E agora como faço para descobrir a quantidade em estoque do produto geladeira?"
   ]
  },
  {
   "cell_type": "code",
   "execution_count": 40,
   "id": "294713ac",
   "metadata": {},
   "outputs": [
    {
     "name": "stdout",
     "output_type": "stream",
     "text": [
      "3\n"
     ]
    }
   ],
   "source": [
    "produtos = [\"tv\", \"celular\", \"mouse\", \"teclado\", \"tablet\"]\n",
    "vendas = [  1000,    1500,      350,    270,      900]\n",
    "\n",
    "\n",
    "i = produtos.index(\"teclado\")\n",
    "print (i)\n",
    "\n",
    "#note que basta digitar o nome da lista e o campo que deseja procurar."
   ]
  },
  {
   "cell_type": "markdown",
   "id": "8e9a1c6a",
   "metadata": {},
   "source": [
    "# Adicionar ou remover itens de uma lista:\n",
    "\n",
    "Adicionar:\n",
    "lista.append(item)\n",
    "\n",
    "\n",
    "\n",
    "Remover:\n",
    "item_removido = lista.pop(indice)\n",
    "\n",
    "Remover:\n",
    "lista.remove(item)\n",
    "\n",
    "\n",
    "\n",
    "Trocar item:\n",
    "lista[index] = \"item_novo\n",
    "\n",
    "\n",
    "Digamos que estamos construindo o controle de produtos da Apple. E a Apple lançõu o IPhone 11 e irá tirar dos seus estoques o iphhone X"
   ]
  },
  {
   "cell_type": "code",
   "execution_count": 41,
   "id": "5d3beae0",
   "metadata": {},
   "outputs": [
    {
     "name": "stdout",
     "output_type": "stream",
     "text": [
      "['apple tv', 'mac', 'iphone x', 'ipad', 'apple watch', 'mac book', 'airpods', 'iphone 11']\n",
      "['apple tv', 'mac', 'ipad', 'apple watch', 'mac book', 'airpods', 'iphone 11']\n"
     ]
    }
   ],
   "source": [
    "produtos = [\"apple tv\", \"mac\", \"iphone x\", \"ipad\", \"apple watch\", \"mac book\", \"airpods\"]\n",
    "\n",
    "#adicionar iphone 11 \n",
    "produtos.append(\"iphone 11\")\n",
    "print (produtos)\n",
    "\n",
    "\n",
    "\n",
    "\n",
    "#remover iphone x\n",
    "produtos.remove(\"iphone x\")\n",
    "print (produtos)"
   ]
  },
  {
   "cell_type": "markdown",
   "id": "cd2bd5dc",
   "metadata": {},
   "source": [
    "Como podemos ver foi acrescentado o item \"iphone 11\" e foi removido o \"ipohone x\"."
   ]
  },
  {
   "cell_type": "markdown",
   "id": "4dfaf4bc",
   "metadata": {},
   "source": [
    "# Descobrir tamanho da lista!\n",
    "\n",
    "variavel = len(nome_lista)\n",
    "\n",
    "irémos descobrir a quantidade de itens que existe dentro de nossa lista.\n"
   ]
  },
  {
   "cell_type": "code",
   "execution_count": 42,
   "id": "7611fbc3",
   "metadata": {},
   "outputs": [
    {
     "name": "stdout",
     "output_type": "stream",
     "text": [
      "7\n"
     ]
    }
   ],
   "source": [
    "produtos = [\"apple tv\", \"mac\", \"iphone x\", \"ipad\", \"apple watch\", \"mac boook\", \"airpods\"]\n",
    "\n",
    "qnt_produtos = len(produtos)\n",
    "print(qnt_produtos)"
   ]
  },
  {
   "cell_type": "markdown",
   "id": "263e64fd",
   "metadata": {},
   "source": [
    "# Descobrindo Maior e Menor valor da lista\n",
    "\n",
    "maior = max(lista)\n",
    "\n",
    "menor = min(lista)"
   ]
  },
  {
   "cell_type": "code",
   "execution_count": 43,
   "id": "d513117d",
   "metadata": {},
   "outputs": [
    {
     "name": "stdout",
     "output_type": "stream",
     "text": [
      "o menor valor é 100\n",
      "o maior valor é 4500\n"
     ]
    }
   ],
   "source": [
    "vendas = [100, 500, 300, 222, 1150,4500]\n",
    "\n",
    "\n",
    "menor_valor = min(vendas)\n",
    "print(\"o menor valor é {}\".format(menor_valor))\n",
    "\n",
    "\n",
    "maior_valor = max(vendas)\n",
    "print(\"o maior valor é {}\".format(maior_valor))\n"
   ]
  },
  {
   "cell_type": "markdown",
   "id": "03119875",
   "metadata": {},
   "source": [
    "# Juntar Listas, Ordenar e cuidados especiais.\n",
    "\n",
    "2 formas:\n",
    "\n",
    "lista1.extend(lista2)\n",
    "\n",
    "lista_nova = lista1 + lista2\n",
    "\n",
    "OBS: o método .append não junta listas, mas adiciona um valor no final da lista."
   ]
  },
  {
   "cell_type": "code",
   "execution_count": 44,
   "id": "b3bf05b6",
   "metadata": {},
   "outputs": [
    {
     "name": "stdout",
     "output_type": "stream",
     "text": [
      "['apple tv', 'mac', 'iphone x', 'ipad', 'apple watch', 'mac boook', 'airpods', 'iphone 12', 'ioculos']\n",
      "['apple tv', 'mac', 'iphone x', 'ipad', 'apple watch', 'mac boook', 'airpods', 'iphone 12', 'ioculos']\n"
     ]
    }
   ],
   "source": [
    "produtos = [\"apple tv\", \"mac\", \"iphone x\", \"ipad\", \"apple watch\", \"mac boook\", \"airpods\"]\n",
    "novos_produtos = [\"iphone 12\", \"ioculos\"]\n",
    "\n",
    "produtos.extend(novos_produtos)\n",
    "print(produtos)\n",
    "\n",
    "\n",
    "\n",
    "produtos = [\"apple tv\", \"mac\", \"iphone x\", \"ipad\", \"apple watch\", \"mac boook\", \"airpods\"]\n",
    "novos_produtos = [\"iphone 12\", \"ioculos\"]\n",
    "\n",
    "todos_produtos = produtos + novos_produtos\n",
    "print(todos_produtos)\n",
    "\n",
    "\n",
    "#as duas sintaxes tem a mesma resolvem o problema.\n"
   ]
  },
  {
   "cell_type": "markdown",
   "id": "da9b1668",
   "metadata": {},
   "source": [
    "OBS: [1] + [2] não é a mesma coisa que 1 + 2, então cuidado sempre com o formato dos valores na hora de fazer operações."
   ]
  },
  {
   "cell_type": "markdown",
   "id": "261bad9e",
   "metadata": {},
   "source": [
    "# Ordenar lista em ordem do (menor para o maior) ou do (maior para o menor)\n",
    "\n",
    "lista.sort()"
   ]
  },
  {
   "cell_type": "code",
   "execution_count": 45,
   "id": "2c0d4128",
   "metadata": {},
   "outputs": [
    {
     "name": "stdout",
     "output_type": "stream",
     "text": [
      "do menor para o maior ['airpods', 'apple tv', 'apple watch', 'ipad', 'iphone x', 'mac', 'mac boook']\n",
      "do maior para o menor ['mac boook', 'mac', 'iphone x', 'ipad', 'apple watch', 'apple tv', 'airpods']\n"
     ]
    }
   ],
   "source": [
    "produtos = [\"apple tv\", \"mac\", \"iphone x\", \"ipad\", \"apple watch\", \"mac boook\", \"airpods\"]\n",
    "\n",
    "#do menor para o maior\n",
    "produtos.sort()\n",
    "print(\"do menor para o maior\", produtos)\n",
    "\n",
    "\n",
    "#do maior para o menor\n",
    "produtos.sort(reverse=True)\n",
    "print(\"do maior para o menor\", produtos)\n"
   ]
  }
 ],
 "metadata": {
  "kernelspec": {
   "display_name": "Python 3 (ipykernel)",
   "language": "python",
   "name": "python3"
  },
  "language_info": {
   "codemirror_mode": {
    "name": "ipython",
    "version": 3
   },
   "file_extension": ".py",
   "mimetype": "text/x-python",
   "name": "python",
   "nbconvert_exporter": "python",
   "pygments_lexer": "ipython3",
   "version": "3.9.12"
  }
 },
 "nbformat": 4,
 "nbformat_minor": 5
}
