{
 "cells": [
  {
   "cell_type": "markdown",
   "id": "0a42e923",
   "metadata": {},
   "source": [
    "# lista em Python\n",
    "\n",
    "# estrutura:\n",
    "\n",
    "Lista = [valor, vlor, valor, valor...]\n",
    "\n",
    "1- Lista é um dos objetos mais importantes de Python, por isso vamos trabalhar bastante nelas.\n",
    "2- Quando importamos uma base de dados par ao Python, normalmente ela é lida como uma \"lista\" ou como alguma \"variação de lista\".\n",
    "3- Listas em Python foram feitas para serem homogêneas, apesar de aceitarem valores hertogêneos.\n",
    "4- exemplos de listas:\n",
    "    \n",
    "Listas de produtos de uma Loja:"
   ]
  },
  {
   "cell_type": "code",
   "execution_count": 30,
   "id": "875796a1",
   "metadata": {},
   "outputs": [
    {
     "name": "stdout",
     "output_type": "stream",
     "text": [
      "['tv', 'celular', 'mouse', 'teclado', 'tablet']\n"
     ]
    }
   ],
   "source": [
    "produtos = [\"tv\", \"celular\", \"mouse\", \"teclado\", \"tablet\"]\n",
    "\n",
    "#ou ela pode ser escrita de outra forma:\n",
    "Produtos = [\"tv\",\n",
    "            \"celular\",\n",
    "            \"mouse\", \n",
    "            \"teclado\",\n",
    "            \"tablet\"]\n",
    "\n",
    "#exibir lista:\n",
    "print (produtos)"
   ]
  },
  {
   "cell_type": "markdown",
   "id": "118ae6b1",
   "metadata": {},
   "source": [
    "# Lista de Unidades vendidas de cada produto da Loja:\n"
   ]
  },
  {
   "cell_type": "code",
   "execution_count": 31,
   "id": "70ac698c",
   "metadata": {},
   "outputs": [
    {
     "name": "stdout",
     "output_type": "stream",
     "text": [
      "1500\n"
     ]
    }
   ],
   "source": [
    "vendas = [1000, 1500, 350, 270, 900]\n",
    "\n",
    "#printar informação da lista vendas index 1\n",
    "print(vendas[1])"
   ]
  },
  {
   "cell_type": "markdown",
   "id": "61a3a59e",
   "metadata": {},
   "source": [
    "# Juntando informações das duas listas (produtos e  vendas)"
   ]
  },
  {
   "cell_type": "code",
   "execution_count": 32,
   "id": "71834395",
   "metadata": {},
   "outputs": [],
   "source": [
    "produtos = [\"tv\", \"celular\", \"mouse\", \"teclado\", \"tablet\"]\n",
    "# indice      0        1          2       3          4  \n",
    "vendas = [  1000,    1500,      350,    270,      900]\n"
   ]
  },
  {
   "cell_type": "code",
   "execution_count": 33,
   "id": "7a3ec313",
   "metadata": {},
   "outputs": [
    {
     "name": "stdout",
     "output_type": "stream",
     "text": [
      "Vendas do produto celular foram de 1500 Unidades\n"
     ]
    }
   ],
   "source": [
    "#OBS: .format( variavel[index], variavel [index]  )\n",
    "print (\"Vendas do produto {} foram de {} Unidades\".format(produtos[1], vendas[1]))"
   ]
  },
  {
   "cell_type": "markdown",
   "id": "b5048df9",
   "metadata": {},
   "source": [
    "# Modificando uma lista:\n",
    "\n",
    "Sintaxe para realizar alteração:\n",
    "\n",
    "lista[index] = valor_novo"
   ]
  },
  {
   "cell_type": "code",
   "execution_count": 34,
   "id": "98d1de14",
   "metadata": {},
   "outputs": [
    {
     "name": "stdout",
     "output_type": "stream",
     "text": [
      "Vendas do produto teclado foram de 300 Unidades\n"
     ]
    }
   ],
   "source": [
    "# vamos alterar a quantidade de vendas do teclado [index_3] para 300\n",
    "\n",
    "vendas[3] = 300\n",
    "\n",
    "print (\"Vendas do produto {} foram de {} Unidades\".format(produtos[3], vendas[3]))"
   ]
  },
  {
   "cell_type": "markdown",
   "id": "e71478ed",
   "metadata": {},
   "source": [
    "# Como dscobrir indice de um item de uma lista?\n",
    "\n",
    "Sintaxe:\n",
    "\n",
    "i = lista.index(\"item\")"
   ]
  },
  {
   "cell_type": "code",
   "execution_count": 37,
   "id": "0f47fbbb",
   "metadata": {},
   "outputs": [],
   "source": []
  },
  {
   "cell_type": "markdown",
   "id": "11b8c3cb",
   "metadata": {},
   "source": [
    "Nesse caso a lista é pequena para fins didáticos, mas essa lista poderia ter dezenas de milhares de produtos diferentes.\n",
    "E agora como faço para descobrir a quantidade em estoque do produto geladeira?"
   ]
  },
  {
   "cell_type": "code",
   "execution_count": 41,
   "id": "294713ac",
   "metadata": {},
   "outputs": [
    {
     "name": "stdout",
     "output_type": "stream",
     "text": [
      "3\n"
     ]
    }
   ],
   "source": [
    "produtos = [\"tv\", \"celular\", \"mouse\", \"teclado\", \"tablet\"]\n",
    "vendas = [  1000,    1500,      350,    270,      900]\n",
    "\n",
    "\n",
    "i = produtos.index(\"teclado\")\n",
    "print (i)\n",
    "\n",
    "#note que basta digitar o nome da lista e o campo que deseja procurar."
   ]
  },
  {
   "cell_type": "markdown",
   "id": "8e9a1c6a",
   "metadata": {},
   "source": [
    "# Adicionar ou remover itens de uma lista:\n",
    "\n",
    "Adicionar:\n",
    "lista.append(item)\n",
    "\n",
    "\n",
    "\n",
    "Remover:\n",
    "item_removido = lista.pop(indice)\n",
    "\n",
    "Remover:\n",
    "lista.remove(item)\n",
    "\n",
    "\n",
    "\n",
    "Trocar item:\n",
    "lista[index] = \"item_novo\n",
    "\n",
    "\n",
    "Digamos que estamos construindo o controle de produtos da Apple. E a Apple lançõu o IPhone 11 e irá tirar dos seus estoques o iphhone X"
   ]
  },
  {
   "cell_type": "code",
   "execution_count": 47,
   "id": "5d3beae0",
   "metadata": {},
   "outputs": [
    {
     "name": "stdout",
     "output_type": "stream",
     "text": [
      "['apple tv', 'mac', 'iphone x', 'ipad', 'apple watch', 'mac book', 'airpods', 'iphone 11']\n",
      "['apple tv', 'mac', 'ipad', 'apple watch', 'mac book', 'airpods', 'iphone 11']\n"
     ]
    }
   ],
   "source": [
    "produtos = [\"apple tv\", \"mac\", \"iphone x\", \"ipad\", \"apple watch\", \"mac book\", \"airpods\"]\n",
    "\n",
    "#adicionar iphone 11 \n",
    "produtos.append(\"iphone 11\")\n",
    "print (produtos)\n",
    "\n",
    "\n",
    "\n",
    "\n",
    "#remover iphone x\n",
    "produtos.remove(\"iphone x\")\n",
    "print (produtos)"
   ]
  },
  {
   "cell_type": "markdown",
   "id": "cd2bd5dc",
   "metadata": {},
   "source": [
    "Como podemos ver foi acrescentado o item \"iphone 11\" e foi removido o \"ipohone x\"."
   ]
  }
 ],
 "metadata": {
  "kernelspec": {
   "display_name": "Python 3 (ipykernel)",
   "language": "python",
   "name": "python3"
  },
  "language_info": {
   "codemirror_mode": {
    "name": "ipython",
    "version": 3
   },
   "file_extension": ".py",
   "mimetype": "text/x-python",
   "name": "python",
   "nbconvert_exporter": "python",
   "pygments_lexer": "ipython3",
   "version": "3.9.12"
  }
 },
 "nbformat": 4,
 "nbformat_minor": 5
}
